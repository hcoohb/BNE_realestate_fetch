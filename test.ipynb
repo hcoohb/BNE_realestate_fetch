{
 "cells": [
  {
   "cell_type": "code",
   "execution_count": null,
   "metadata": {},
   "outputs": [],
   "source": [
    "from realestate_com_au import RealestateComAu\n",
    "\n",
    "api = RealestateComAu( debug=True)\n",
    "\n",
    "# Get property listings\n",
    "listings = api.search(\n",
    "    locations=[\"morningside\"],\n",
    "    channel=\"buy\",\n",
    "    limit=7,\n",
    "    min_bedrooms=3,\n",
    "    max_bedrooms=4,\n",
    "    sort_type=\"new-desc\", # // \"relevance\", \"price-desc\", \"price-asc\", \"new-desc\", \"new-asc\", \"next-inspection-time\", \"next-auction-time\"\n",
    ")\n",
    "\n",
    "for listing in listings:\n",
    "    print(listing)"
   ]
  }
 ],
 "metadata": {
  "kernelspec": {
   "display_name": "realestate",
   "language": "python",
   "name": "realestate"
  },
  "language_info": {
   "codemirror_mode": {
    "name": "ipython",
    "version": 3
   },
   "file_extension": ".py",
   "mimetype": "text/x-python",
   "name": "python",
   "nbconvert_exporter": "python",
   "pygments_lexer": "ipython3",
   "version": "3.10.6"
  },
  "orig_nbformat": 4
 },
 "nbformat": 4,
 "nbformat_minor": 2
}
